{
  "metadata": {
    "kernelspec": {
      "name": "xpython",
      "display_name": "Python 3.13 (XPython)",
      "language": "python"
    },
    "language_info": {
      "file_extension": ".py",
      "mimetype": "text/x-python",
      "name": "python",
      "version": "3.13.1"
    }
  },
  "nbformat_minor": 5,
  "nbformat": 4,
  "cells": [
    {
      "id": "0a96873b-65a7-416a-a5b7-12f47ebe8fe5",
      "cell_type": "markdown",
      "source": "# Data Science Tools and Ecosystem",
      "metadata": {}
    },
    {
      "id": "e8ae16e9-5d4f-464e-930d-713fb3e4c68a",
      "cell_type": "markdown",
      "source": "## Introduction\n\nThis notebook provides an overview of the Data Science Tools and Ecosystem. It explores popular programming languages, libraries, and tools used by data scientists, along with examples of basic arithmetic operations and conversions. The content is designed to serve as a practical guide for beginners and professionals alike, updated as of 12:49 PM PKT on Saturday, July 26, 2025.",
      "metadata": {}
    },
    {
      "id": "286fa3c1-3e34-414d-b87a-b322818f6bfb",
      "cell_type": "markdown",
      "source": "## Data Science Languages\n\nSome of the popular languages that Data Scientists use are:\n1. Python\n2. R\n3. SQL\n4. Julia\n5. Scala",
      "metadata": {}
    },
    {
      "id": "81d8130e-ce32-438a-b9bc-200975a86b57",
      "cell_type": "markdown",
      "source": "## Data Science Libraries\n\nSome of the commonly used libraries used by Data Scientists include:\n1. Pandas\n2. NumPy\n3. Matplotlib\n4. Scikit-learn\n5. TensorFlow",
      "metadata": {}
    },
    {
      "id": "2b19b3ef-27b3-4e3c-9fa7-41753250deee",
      "cell_type": "markdown",
      "source": "## Data Science Tools\n\n| Tool                |\n|---------------------|\n| Jupyter Notebook    |\n| RStudio             |\n| Apache Zeppelin     |",
      "metadata": {}
    },
    {
      "id": "0392ba4f-b745-435b-9af0-04c3869cd11c",
      "cell_type": "markdown",
      "source": "## Arithmetic Expression Examples\n\n### Below are a few examples of evaluating arithmetic expressions in Python.\n\nThis section will demonstrate basic arithmetic operations such as addition, subtraction, multiplication, and division using Python code cells.",
      "metadata": {}
    },
    {
      "id": "5e915de6-6216-4d6e-b966-40e604a3d6b0",
      "cell_type": "code",
      "source": "# This a simple arithmetic expression to multiply then add integers\nresult = (3 * 4) + 5\nprint(result)",
      "metadata": {
        "trusted": true
      },
      "outputs": [
        {
          "name": "stdout",
          "output_type": "stream",
          "text": "17\n"
        }
      ],
      "execution_count": 8
    },
    {
      "id": "826ff664-ae9b-4a27-bd84-5821862e759f",
      "cell_type": "code",
      "source": "result",
      "metadata": {
        "trusted": true
      },
      "outputs": [
        {
          "execution_count": 10,
          "output_type": "execute_result",
          "data": {
            "text/plain": "17"
          },
          "metadata": {}
        }
      ],
      "execution_count": 10
    },
    {
      "id": "5d6c8694-a976-437a-939f-48a412829f64",
      "cell_type": "code",
      "source": "# This will convert 200 minutes to hours by dividing by 60\n200 / 60",
      "metadata": {
        "trusted": true
      },
      "outputs": [
        {
          "execution_count": 11,
          "output_type": "execute_result",
          "data": {
            "text/plain": "3.3333333333333335"
          },
          "metadata": {}
        }
      ],
      "execution_count": 11
    },
    {
      "id": "cd25bb02-140a-42e8-817e-5e19bc5e312a",
      "cell_type": "markdown",
      "source": "## Objectives:\n\n**Objectives:**  \n- List popular languages for Data Science  \n- List commonly used libraries in Data Science  \n- Create a table of Data Science tools  \n- Demonstrate arithmetic expression examples  \n- Perform basic conversions and calculations  ",
      "metadata": {}
    },
    {
      "id": "0689abfb-e605-486b-be75-f2a761377435",
      "cell_type": "markdown",
      "source": "## Author\n\nShahid Shoaib",
      "metadata": {}
    },
    {
      "id": "eef74d14-604e-46b3-9a29-9cf38f389322",
      "cell_type": "code",
      "source": "",
      "metadata": {
        "trusted": true
      },
      "outputs": [],
      "execution_count": null
    }
  ]
}